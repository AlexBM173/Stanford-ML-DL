{
 "cells": [
  {
   "cell_type": "markdown",
   "id": "44310c99",
   "metadata": {},
   "source": [
    "# Linear Regression\n",
    "\n"
   ]
  }
 ],
 "metadata": {
  "language_info": {
   "name": "python"
  }
 },
 "nbformat": 4,
 "nbformat_minor": 5
}
